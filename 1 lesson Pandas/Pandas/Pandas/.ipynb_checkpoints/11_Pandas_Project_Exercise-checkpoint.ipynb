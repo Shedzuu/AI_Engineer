{
 "cells": [
  {
   "cell_type": "markdown",
   "metadata": {
    "id": "0_yCSfEFMK8c"
   },
   "source": [
    "# Упражнения по Pandas\n",
    "\n",
    "# Данные\n",
    "\n",
    "Этот набор данных содержит информацию о бронировании номеров в отеле - когда было сделано бронирование, на сколько дней, количество взрослых, детей, младенцев, требуемые парковочные места и т.д.\n",
    "\n",
    "Все персональные данные были удалены из этих данных.\n",
    "\n",
    "Источник данных: эти данные получены из статьи \"Hotel Booking Demand Datasets\", написанной авторами Nuno Antonio, Ana Almeida и Luis Nunes для журнала Data in Brief, том 22, февраль 2019\".\n",
    "\n",
    "\n",
    "----------------------------\n",
    "\n",
    "#### Замечание: имена, адреса email, номера телефонов и номера кредитных карт являются вымышленными. Данные о бронировании являются настоящими из статьи выше.\n",
    "\n",
    "## <div style=\"text-align: center\">Описание колонок</div>"
   ]
  },
  {
   "cell_type": "markdown",
   "metadata": {
    "id": "opRCWLCZMK8e"
   },
   "source": [
    "<table><thead><tr class=\"rowsep-1\"><th scope=\"col\"><strong>Переменная</strong></th><th scope=\"col\"><strong>Тип</strong></th><th scope=\"col\"><strong>Описание</strong></th><th scope=\"col\"><strong>Источник/Обработка данных</strong></th></tr></thead><tbody>\n",
    "\n",
    "<tr><th scope=\"row\"><em>ADR</em></th><td>Numeric</td><td>Средняя цена за сутки (см. <a name=\"bbib5\" href=\"#bib5\" class=\"workspace-trigger\">[5]</a>)</td><td>BO, BL и TR / Вычисляется как сумма всех транзакций, делённая на количество суток (ночей)</td></tr>\n",
    "\n",
    "<tr><th scope=\"row\"><em>Adults</em></th><td>Integer</td><td>Количество взрослых</td><td>BO и BL</td></tr>     \n",
    "\n",
    "<tr><th scope=\"row\"><em>Agent</em></th><td>Categorical</td><td>Идентификатор туристического агентства, сделавшего бронирование<a name=\"btbl1fna\" href=\"#tbl1fna\" class=\"workspace-trigger\"><sup>a</sup></a></td><td>BO и BL</td></tr>     \n",
    "\n",
    "<tr><th scope=\"row\"><em>ArrivalDateDayOfMonth</em></th><td>Integer</td><td>Дата заезда - день месяца</td><td>BO и BL</td></tr>     \n",
    "\n",
    "<tr><th scope=\"row\"><em>ArrivalDateMonth</em></th><td>Categorical</td><td>Дата заезда - месяц, 12 категорий: “January” - “December”</td><td>BO и BL</td></tr>     \n",
    "\n",
    "<tr><th scope=\"row\"><em>ArrivalDateWeekNumber</em></th><td>Integer</td><td>Дата заезда - номер недели</td><td>BO и BL</td></tr>     \n",
    "\n",
    "<tr><th scope=\"row\"><em>ArrivalDateYear</em></th><td>Integer</td><td>Дата заезда - год</td><td>BO и BL</td></tr>     \n",
    "\n",
    "<tr><th scope=\"row\"><em>AssignedRoomType</em></th><td>Categorical</td><td>Тип номера, который был сдан по факту. Иногда может отличаться от забронированного типа номера из-за операционных причин (например, забронировано больше номеров, чем есть по факту) или по запросу Клиента. Для соблюдения анонимности, вместо смыслового названия применяются коды типов номеров</td><td>BO и BL</td></tr>     \n",
    "\n",
    "<tr><th scope=\"row\"><em>Babies</em></th><td>Integer</td><td>Количество младенцев</td><td>BO и BL</td></tr>     \n",
    "\n",
    "<tr><th scope=\"row\"><em>BookingChanges</em></th><td>Integer</td><td>Количество изменений/уточнений, внесённых в бронирование с момента его создания в системе PMS до момента заезда Клиента или отмены бронирования</td><td>BO and BL/Вычисляется как кочество раз, когда менялись какие-либо атрибуты бронирования, а именно: люди, дата заезда, количество суток, тип номера или тип питания</td></tr>     \n",
    "\n",
    "<tr><th scope=\"row\"><em>Children</em></th><td>Integer</td><td>Количество детей</td><td>BO and BL/Количество детей - как тех, за которых было заплачено, так и гостящих бесплатно</td></tr>     \n",
    "\n",
    "<tr><th scope=\"row\"><em>Company</em></th><td>Categorical</td><td>Идентификатор компании, сделавшей бронирование или ответственной за оплату номера. Для соблюдения анонимности, вместо названия компании применяются идентификаторы</td><td>BO и BL.</td></tr>     \n",
    "\n",
    "<tr><th scope=\"row\"><em>Country</em></th><td>Categorical</td><td>Страна происхождения. Различные значения представлены в формате ISO 3155–3:2013<a name=\"bbib6\" href=\"#bib6\" class=\"workspace-trigger\">[6]</a></td><td>BO, BL и NT</td></tr>     \n",
    "\n",
    "<tr><th scope=\"row\"><br></th><td><br></td><td><br></td><td><br></td></tr>     \n",
    "\n",
    "<tr><th scope=\"row\" rowspan=\"5\"><em>CustomerType</em></th><td rowspan=\"5\">Categorical</td><td>Тип бронирования, одна из четырёх категорий:</td><td rowspan=\"5\">BO и BL</td></tr>     \n",
    "<tr><td>Contract - по контракту;</td></tr>     \n",
    "<tr><td>Group – бронирование в составе группы;</td></tr>     \n",
    "<tr><td>Transient – когда бронирование не относится к контракту или группе, и не связано с другим transient-бронированием; в этой категории относятся бронирования, выполненные накануне или даже в последний момент, а также когда человек просто зашёл в отель с улицы и попросил номер</td></tr>     \n",
    "<tr><td>Transient-party – когда бронирование относится к категории transient, но связано хотя бы одним другим transient-бронированием</td></tr>     \n",
    "\n",
    "<tr><th scope=\"row\"><em>DaysInWaitingList</em></th><td>Integer</td><td>Количество дней, в течении которых бронирование было в списке ожидания перед тем, как отправить подтверждение бронирования Клиенту</td><td>BO/Вычисляется как разница между датой подтверждения и датой создания бронирования в системе PMS</td></tr>     \n",
    "\n",
    "<tr><th scope=\"row\"><br></th><td><br></td><td><br></td><td><br></td></tr>     \n",
    "\n",
    "<tr><th scope=\"row\" rowspan=\"7\"><em>DepositType</em></th><td rowspan=\"7\">Categorical</td><td>Вносил ли Клиент предоплату для гарантии бронирования. Может принимать три значения:</td>\n",
    "<td rowspan=\"2\">BO and TR/Вычисляется на основе платежей в таблице transaction (TR), выполненных до даты заезда или отмены бронирования.</td></tr>     \n",
    "<tr><td rowspan=\"3\">No Deposit – предоплаты не было;</td></tr>     \n",
    "<tr><td>Если платежи не было найдены, то значение “No Deposit”.</td></tr>     \n",
    "<tr><td rowspan=\"2\">Если платёж равен или превышает сумму бронирования, то значение “Non Refund”.</td></tr>     <tr><td rowspan=\"2\">Non Refund – предоплата была равна полной сумме бронирования;</td></tr>     \n",
    "<tr><td rowspan=\"2\">В остальных случаях - значение “Refundable”</td></tr>     <tr><td>Refundable – платёж был меньше суммы бронирования.</td></tr>     \n",
    "\n",
    "<tr><th scope=\"row\"><em>DistributionChannel</em></th><td>Categorical</td><td>Канал распространения бронирования. Значение “TA” означает “Travel Agents”, а “TO” - \"Tour Operators”</td><td>BO, BL и DC</td></tr>     \n",
    "\n",
    "<tr><th scope=\"row\"><em>IsCanceled</em></th><td>Categorical</td><td>Было ли бронирование отменено (1) или нет (0)</td><td>BO</td></tr>     \n",
    "\n",
    "<tr><th scope=\"row\"><em>IsRepeatedGuest</em></th><td>Categorical</td><td>Был ли этот Клиент в отеле раньше (1) или нет (0)</td><td>BO, BL and C/ Сверяем профиль Клиента и Клиента в бронировании. Если соответствие нашлось, и если дата создания профиля Клиента меньше даты создания бронирования в системе PMS, то считаем, что это повторный Клиент</td></tr>     \n",
    "\n",
    "<tr><th scope=\"row\"><em>LeadTime</em></th><td>Integer</td><td>Количество дней между датой внесения бронирования в систему PMS и датой заезда</td><td>BO and BL/ Разница между датой внесения бронирования и датой заезда</td></tr>     \n",
    "\n",
    "<tr><th scope=\"row\"><em>MarketSegment</em></th><td>Categorical</td><td>Сегмент рынка. Значение “TA” означает “Travel Agents”, а “TO” - “Tour Operators”</td><td>BO, BL и MS</td></tr>     \n",
    "\n",
    "<tr><th scope=\"row\"><br></th><td><br></td><td><br></td><td><br></td></tr>     \n",
    "\n",
    "<tr><th scope=\"row\" rowspan=\"5\"><em>Meal</em></th><td rowspan=\"5\">Categorical</td><td>Тип питания. Категории представлены стандартными для отелей пакетами питания:</td><td rowspan=\"5\">BO, BL и ML</td></tr>     <tr><td>Undefined/SC – no meal package;</td></tr>     \n",
    "<tr><td>BB – Bed &amp; Breakfast;</td></tr>     \n",
    "<tr><td>HB – Half board (завтрак и ещё одно питание, обычно ужин);\n",
    "</td></tr>     \n",
    "<tr><td>FB – Full board (завтрак, обед и ужин)</td></tr>     \n",
    "\n",
    "<tr><th scope=\"row\"><em>PreviousBookingsNotCanceled</em></th><td>Integer</td><td>Количество предыдущих бронирований, которые не были отменены этим Клиентом перед текущим бронированием</td><td>BO and BL / Если профиль Клиента не был найден, то значение 0. Иначе, количество бронирований с тем же профилем, созданных перед текущим бронированием и не отменённых..</td></tr>     \n",
    "\n",
    "<tr><th scope=\"row\"><em>PreviousCancellations</em></th><td>Integer</td><td>Количество предыдущих бронирований, которые были отменены этим Клиентом перед текущим бронированием</td><td>BO and BL/ Если профиль Клиента не был найден, то значение 0. Иначе, количество бронирований с тем же профилем, созданных перед текущим бронированием и отменённых.</td></tr>     \n",
    "\n",
    "<tr><th scope=\"row\"><em>RequiredCardParkingSpaces</em></th><td>Integer</td><td>Количество парковочных мест, которые требуются Клиенту</td><td>BO и BL</td></tr>     \n",
    "\n",
    "<tr><th scope=\"row\"><br></th><td><br></td><td><br></td><td><br></td></tr>     \n",
    "\n",
    "<tr><th scope=\"row\" rowspan=\"4\"><em>ReservationStatus</em></th><td rowspan=\"4\">Categorical</td><td>Последний статус резервирования. Одно из трёх значений:</td>\n",
    "<td rowspan=\"4\">BO</td></tr>     <tr><td>Canceled – бронирование было отменено Клиентом;</td></tr>     \n",
    "<tr><td>Check-Out – Клиент заехал в отель, но уже выехал;</td></tr>     \n",
    "<tr><td>No-Show – Клиент не заехал в отель, и не сообщил почему</td></tr>     \n",
    "\n",
    "<tr><th scope=\"row\"><em>ReservationStatusDate</em></th><td>Date</td><td>Дата, когда было записано последнее изменение статуса. Используется вместе со значением <em>ReservationStatus</em> для того, чтобы понять, было ли бронирование отменено, или же Клиент выписался из отела</td><td>BO</td></tr>     \n",
    "\n",
    "<tr><th scope=\"row\"><em>ReservedRoomType</em></th><td>Categorical</td><td>Тип забронированного номера. Для соблюдения анонимности, вместо смыслового названия применяются коды типов номеров</td><td>BO и BL</td></tr>     \n",
    "\n",
    "<tr><th scope=\"row\"><em>StaysInWeekendNights</em></th><td>Integer</td><td>Количество суток (ночей) на выходных - суббота или воскресенье, которые Клиент забронировал или по факту гостил</td><td>BO и BL/Количество ночей в выходные из общего количества ночей </td></tr>     \n",
    "\n",
    "<tr><th scope=\"row\"><em>StaysInWeekNights</em></th><td>Integer</td><td>Количество суток (ночей) в будни - с понедельника по пятницу, которые Клиент забронировал или по факту гостил</td><td>BO и BL/Количество ночей в будни из общего количества ночей</td></tr>     \n",
    "\n",
    "<tr><th scope=\"row\"><em>TotalOfSpecialRequests</em></th><td>Integer</td><td>Количество специальных запросов, которые отправил Клиент (например, две отдельные кровати или высокий этаж)</td><td>BO и BL/Количество всех специальных запросов</td></tr></tbody></table>\n"
   ]
  },
  {
   "cell_type": "markdown",
   "metadata": {
    "id": "i2cjHh-2MK8g"
   },
   "source": [
    "-----------"
   ]
  },
  {
   "cell_type": "markdown",
   "metadata": {
    "id": "TNKfjABKMK8h"
   },
   "source": [
    "# ЗАДАНИЯ\n",
    "\n",
    "**Выполните задания, указанные жирным шрифтом. Ожидаемый результат приведён ниже в ячейках.**\n",
    "\n",
    "**Пожалуйста не запускайте ячейку непосредственно над ожидаемым результатом - это приведёт к потере этого результата.**  \n",
    "\n",
    "**Постарайтесь решить каждое из заданий с помощью одной строки кода в pandas (не каждое задание можно решить одной строкой кода, но многие можно!).**  \n",
    "**Посмотрите варианты решений в блокноте с решениями и в видео-лекции.**  \n",
    "**Замечание: многие задачи можно решить разными способами!**"
   ]
  },
  {
   "cell_type": "code",
   "execution_count": 7,
   "metadata": {
    "id": "I_9WRzhVMK8i"
   },
   "outputs": [],
   "source": [
    "import pandas as pd"
   ]
  },
  {
   "cell_type": "code",
   "execution_count": 8,
   "metadata": {
    "id": "hVbnQv9hMK8j"
   },
   "outputs": [],
   "source": [
    "hotels = pd.read_csv(\"hotel_booking_data.csv\")"
   ]
  },
  {
   "cell_type": "code",
   "execution_count": 9,
   "metadata": {
    "id": "ztv9hIzOMK8j",
    "outputId": "db7bff79-0372-4409-be07-6f35b039153c"
   },
   "outputs": [
    {
     "data": {
      "text/html": [
       "<div>\n",
       "<style scoped>\n",
       "    .dataframe tbody tr th:only-of-type {\n",
       "        vertical-align: middle;\n",
       "    }\n",
       "\n",
       "    .dataframe tbody tr th {\n",
       "        vertical-align: top;\n",
       "    }\n",
       "\n",
       "    .dataframe thead th {\n",
       "        text-align: right;\n",
       "    }\n",
       "</style>\n",
       "<table border=\"1\" class=\"dataframe\">\n",
       "  <thead>\n",
       "    <tr style=\"text-align: right;\">\n",
       "      <th></th>\n",
       "      <th>hotel</th>\n",
       "      <th>is_canceled</th>\n",
       "      <th>lead_time</th>\n",
       "      <th>arrival_date_year</th>\n",
       "      <th>arrival_date_month</th>\n",
       "      <th>arrival_date_week_number</th>\n",
       "      <th>arrival_date_day_of_month</th>\n",
       "      <th>stays_in_weekend_nights</th>\n",
       "      <th>stays_in_week_nights</th>\n",
       "      <th>adults</th>\n",
       "      <th>...</th>\n",
       "      <th>customer_type</th>\n",
       "      <th>adr</th>\n",
       "      <th>required_car_parking_spaces</th>\n",
       "      <th>total_of_special_requests</th>\n",
       "      <th>reservation_status</th>\n",
       "      <th>reservation_status_date</th>\n",
       "      <th>name</th>\n",
       "      <th>email</th>\n",
       "      <th>phone-number</th>\n",
       "      <th>credit_card</th>\n",
       "    </tr>\n",
       "  </thead>\n",
       "  <tbody>\n",
       "    <tr>\n",
       "      <th>0</th>\n",
       "      <td>Resort Hotel</td>\n",
       "      <td>0</td>\n",
       "      <td>342</td>\n",
       "      <td>2015</td>\n",
       "      <td>July</td>\n",
       "      <td>27</td>\n",
       "      <td>1</td>\n",
       "      <td>0</td>\n",
       "      <td>0</td>\n",
       "      <td>2</td>\n",
       "      <td>...</td>\n",
       "      <td>Transient</td>\n",
       "      <td>0.0</td>\n",
       "      <td>0</td>\n",
       "      <td>0</td>\n",
       "      <td>Check-Out</td>\n",
       "      <td>2015-07-01</td>\n",
       "      <td>Ernest Barnes</td>\n",
       "      <td>Ernest.Barnes31@outlook.com</td>\n",
       "      <td>669-792-1661</td>\n",
       "      <td>************4322</td>\n",
       "    </tr>\n",
       "    <tr>\n",
       "      <th>1</th>\n",
       "      <td>Resort Hotel</td>\n",
       "      <td>0</td>\n",
       "      <td>737</td>\n",
       "      <td>2015</td>\n",
       "      <td>July</td>\n",
       "      <td>27</td>\n",
       "      <td>1</td>\n",
       "      <td>0</td>\n",
       "      <td>0</td>\n",
       "      <td>2</td>\n",
       "      <td>...</td>\n",
       "      <td>Transient</td>\n",
       "      <td>0.0</td>\n",
       "      <td>0</td>\n",
       "      <td>0</td>\n",
       "      <td>Check-Out</td>\n",
       "      <td>2015-07-01</td>\n",
       "      <td>Andrea Baker</td>\n",
       "      <td>Andrea_Baker94@aol.com</td>\n",
       "      <td>858-637-6955</td>\n",
       "      <td>************9157</td>\n",
       "    </tr>\n",
       "    <tr>\n",
       "      <th>2</th>\n",
       "      <td>Resort Hotel</td>\n",
       "      <td>0</td>\n",
       "      <td>7</td>\n",
       "      <td>2015</td>\n",
       "      <td>July</td>\n",
       "      <td>27</td>\n",
       "      <td>1</td>\n",
       "      <td>0</td>\n",
       "      <td>1</td>\n",
       "      <td>1</td>\n",
       "      <td>...</td>\n",
       "      <td>Transient</td>\n",
       "      <td>75.0</td>\n",
       "      <td>0</td>\n",
       "      <td>0</td>\n",
       "      <td>Check-Out</td>\n",
       "      <td>2015-07-02</td>\n",
       "      <td>Rebecca Parker</td>\n",
       "      <td>Rebecca_Parker@comcast.net</td>\n",
       "      <td>652-885-2745</td>\n",
       "      <td>************3734</td>\n",
       "    </tr>\n",
       "    <tr>\n",
       "      <th>3</th>\n",
       "      <td>Resort Hotel</td>\n",
       "      <td>0</td>\n",
       "      <td>13</td>\n",
       "      <td>2015</td>\n",
       "      <td>July</td>\n",
       "      <td>27</td>\n",
       "      <td>1</td>\n",
       "      <td>0</td>\n",
       "      <td>1</td>\n",
       "      <td>1</td>\n",
       "      <td>...</td>\n",
       "      <td>Transient</td>\n",
       "      <td>75.0</td>\n",
       "      <td>0</td>\n",
       "      <td>0</td>\n",
       "      <td>Check-Out</td>\n",
       "      <td>2015-07-02</td>\n",
       "      <td>Laura Murray</td>\n",
       "      <td>Laura_M@gmail.com</td>\n",
       "      <td>364-656-8427</td>\n",
       "      <td>************5677</td>\n",
       "    </tr>\n",
       "    <tr>\n",
       "      <th>4</th>\n",
       "      <td>Resort Hotel</td>\n",
       "      <td>0</td>\n",
       "      <td>14</td>\n",
       "      <td>2015</td>\n",
       "      <td>July</td>\n",
       "      <td>27</td>\n",
       "      <td>1</td>\n",
       "      <td>0</td>\n",
       "      <td>2</td>\n",
       "      <td>2</td>\n",
       "      <td>...</td>\n",
       "      <td>Transient</td>\n",
       "      <td>98.0</td>\n",
       "      <td>0</td>\n",
       "      <td>1</td>\n",
       "      <td>Check-Out</td>\n",
       "      <td>2015-07-03</td>\n",
       "      <td>Linda Hines</td>\n",
       "      <td>LHines@verizon.com</td>\n",
       "      <td>713-226-5883</td>\n",
       "      <td>************5498</td>\n",
       "    </tr>\n",
       "  </tbody>\n",
       "</table>\n",
       "<p>5 rows × 36 columns</p>\n",
       "</div>"
      ],
      "text/plain": [
       "          hotel  is_canceled  lead_time  arrival_date_year arrival_date_month  \\\n",
       "0  Resort Hotel            0        342               2015               July   \n",
       "1  Resort Hotel            0        737               2015               July   \n",
       "2  Resort Hotel            0          7               2015               July   \n",
       "3  Resort Hotel            0         13               2015               July   \n",
       "4  Resort Hotel            0         14               2015               July   \n",
       "\n",
       "   arrival_date_week_number  arrival_date_day_of_month  \\\n",
       "0                        27                          1   \n",
       "1                        27                          1   \n",
       "2                        27                          1   \n",
       "3                        27                          1   \n",
       "4                        27                          1   \n",
       "\n",
       "   stays_in_weekend_nights  stays_in_week_nights  adults  ...  customer_type  \\\n",
       "0                        0                     0       2  ...      Transient   \n",
       "1                        0                     0       2  ...      Transient   \n",
       "2                        0                     1       1  ...      Transient   \n",
       "3                        0                     1       1  ...      Transient   \n",
       "4                        0                     2       2  ...      Transient   \n",
       "\n",
       "    adr required_car_parking_spaces total_of_special_requests  \\\n",
       "0   0.0                           0                         0   \n",
       "1   0.0                           0                         0   \n",
       "2  75.0                           0                         0   \n",
       "3  75.0                           0                         0   \n",
       "4  98.0                           0                         1   \n",
       "\n",
       "  reservation_status reservation_status_date            name  \\\n",
       "0          Check-Out              2015-07-01   Ernest Barnes   \n",
       "1          Check-Out              2015-07-01    Andrea Baker   \n",
       "2          Check-Out              2015-07-02  Rebecca Parker   \n",
       "3          Check-Out              2015-07-02    Laura Murray   \n",
       "4          Check-Out              2015-07-03     Linda Hines   \n",
       "\n",
       "                         email  phone-number       credit_card  \n",
       "0  Ernest.Barnes31@outlook.com  669-792-1661  ************4322  \n",
       "1       Andrea_Baker94@aol.com  858-637-6955  ************9157  \n",
       "2   Rebecca_Parker@comcast.net  652-885-2745  ************3734  \n",
       "3            Laura_M@gmail.com  364-656-8427  ************5677  \n",
       "4           LHines@verizon.com  713-226-5883  ************5498  \n",
       "\n",
       "[5 rows x 36 columns]"
      ]
     },
     "execution_count": 9,
     "metadata": {},
     "output_type": "execute_result"
    }
   ],
   "source": [
    "hotels.head()"
   ]
  },
  {
   "cell_type": "code",
   "execution_count": 10,
   "metadata": {
    "id": "VEBDMTf_MK8k",
    "outputId": "f12afd4f-ad09-4057-f15f-c1f7370a3420"
   },
   "outputs": [
    {
     "name": "stdout",
     "output_type": "stream",
     "text": [
      "<class 'pandas.core.frame.DataFrame'>\n",
      "RangeIndex: 119390 entries, 0 to 119389\n",
      "Data columns (total 36 columns):\n",
      " #   Column                          Non-Null Count   Dtype  \n",
      "---  ------                          --------------   -----  \n",
      " 0   hotel                           119390 non-null  object \n",
      " 1   is_canceled                     119390 non-null  int64  \n",
      " 2   lead_time                       119390 non-null  int64  \n",
      " 3   arrival_date_year               119390 non-null  int64  \n",
      " 4   arrival_date_month              119390 non-null  object \n",
      " 5   arrival_date_week_number        119390 non-null  int64  \n",
      " 6   arrival_date_day_of_month       119390 non-null  int64  \n",
      " 7   stays_in_weekend_nights         119390 non-null  int64  \n",
      " 8   stays_in_week_nights            119390 non-null  int64  \n",
      " 9   adults                          119390 non-null  int64  \n",
      " 10  children                        119386 non-null  float64\n",
      " 11  babies                          119390 non-null  int64  \n",
      " 12  meal                            119390 non-null  object \n",
      " 13  country                         118902 non-null  object \n",
      " 14  market_segment                  119390 non-null  object \n",
      " 15  distribution_channel            119390 non-null  object \n",
      " 16  is_repeated_guest               119390 non-null  int64  \n",
      " 17  previous_cancellations          119390 non-null  int64  \n",
      " 18  previous_bookings_not_canceled  119390 non-null  int64  \n",
      " 19  reserved_room_type              119390 non-null  object \n",
      " 20  assigned_room_type              119390 non-null  object \n",
      " 21  booking_changes                 119390 non-null  int64  \n",
      " 22  deposit_type                    119390 non-null  object \n",
      " 23  agent                           103050 non-null  float64\n",
      " 24  company                         6797 non-null    float64\n",
      " 25  days_in_waiting_list            119390 non-null  int64  \n",
      " 26  customer_type                   119390 non-null  object \n",
      " 27  adr                             119390 non-null  float64\n",
      " 28  required_car_parking_spaces     119390 non-null  int64  \n",
      " 29  total_of_special_requests       119390 non-null  int64  \n",
      " 30  reservation_status              119390 non-null  object \n",
      " 31  reservation_status_date         119390 non-null  object \n",
      " 32  name                            119390 non-null  object \n",
      " 33  email                           119390 non-null  object \n",
      " 34  phone-number                    119390 non-null  object \n",
      " 35  credit_card                     119390 non-null  object \n",
      "dtypes: float64(4), int64(16), object(16)\n",
      "memory usage: 32.8+ MB\n"
     ]
    }
   ],
   "source": [
    "hotels.info()"
   ]
  },
  {
   "cell_type": "markdown",
   "metadata": {
    "id": "N9BTknZlMK8k"
   },
   "source": [
    "---\n",
    "**ЗАДАНИЕ: Сколько строк содержится в этом наборе данных?**"
   ]
  },
  {
   "cell_type": "code",
   "execution_count": 12,
   "metadata": {
    "id": "vAMdEwefMK8l"
   },
   "outputs": [
    {
     "name": "stdout",
     "output_type": "stream",
     "text": [
      "row numbers:  119390\n"
     ]
    }
   ],
   "source": [
    "# НАПИШИТЕ ВАШ КОД В ЭТОЙ ЯЧЕЙКЕ\n",
    "print('row numbers: ', len(hotels))"
   ]
  },
  {
   "cell_type": "code",
   "execution_count": null,
   "metadata": {
    "id": "tcGkH8R-MK8l",
    "outputId": "a929a64c-8425-4133-bd9b-b3ced91eaac9"
   },
   "outputs": [],
   "source": []
  },
  {
   "cell_type": "markdown",
   "metadata": {
    "id": "uNQ9MErfMK8l"
   },
   "source": [
    "**ЗАДАНИЕ: Есть ли отсутствующие (пропущенные) данные? Если да, то в какой колонке их больше всего?**"
   ]
  },
  {
   "cell_type": "code",
   "execution_count": 86,
   "metadata": {
    "id": "yJFO-4RPMK8l"
   },
   "outputs": [
    {
     "name": "stdout",
     "output_type": "stream",
     "text": [
      "112593\n"
     ]
    }
   ],
   "source": [
    "# НАПИШИТЕ ВАШ КОД В ЭТОЙ ЯЧЕЙКЕ\n",
    "print(hotels.isnull().sum().max())"
   ]
  },
  {
   "cell_type": "code",
   "execution_count": null,
   "metadata": {
    "id": "wUvvg7lEMK8m",
    "outputId": "850bfdbd-8c4f-4af8-a4ea-e0d32ad3ebb5"
   },
   "outputs": [],
   "source": []
  },
  {
   "cell_type": "code",
   "execution_count": null,
   "metadata": {
    "id": "71Iifx61MK8m",
    "outputId": "d00b76ba-fba5-45a6-bc83-11e941a3fa3d"
   },
   "outputs": [],
   "source": []
  },
  {
   "cell_type": "markdown",
   "metadata": {
    "id": "FlDPgoKfMK8m"
   },
   "source": [
    "**ЗАДАНИЕ: Удалите колонку \"company\" из набора данных.**"
   ]
  },
  {
   "cell_type": "code",
   "execution_count": 92,
   "metadata": {
    "id": "pQ2pv4A3MK8m"
   },
   "outputs": [],
   "source": [
    "# НАПИШИТЕ ВАШ КОД В ЭТОЙ ЯЧЕЙКЕ\n",
    "hotels.drop(columns=['company'], inplace=True)\n"
   ]
  },
  {
   "cell_type": "code",
   "execution_count": 94,
   "metadata": {
    "id": "GUeBdM1eMK8m"
   },
   "outputs": [
    {
     "name": "stdout",
     "output_type": "stream",
     "text": [
      "<class 'pandas.core.frame.DataFrame'>\n",
      "RangeIndex: 119390 entries, 0 to 119389\n",
      "Data columns (total 35 columns):\n",
      " #   Column                          Non-Null Count   Dtype  \n",
      "---  ------                          --------------   -----  \n",
      " 0   hotel                           119390 non-null  object \n",
      " 1   is_canceled                     119390 non-null  int64  \n",
      " 2   lead_time                       119390 non-null  int64  \n",
      " 3   arrival_date_year               119390 non-null  int64  \n",
      " 4   arrival_date_month              119390 non-null  object \n",
      " 5   arrival_date_week_number        119390 non-null  int64  \n",
      " 6   arrival_date_day_of_month       119390 non-null  int64  \n",
      " 7   stays_in_weekend_nights         119390 non-null  int64  \n",
      " 8   stays_in_week_nights            119390 non-null  int64  \n",
      " 9   adults                          119390 non-null  int64  \n",
      " 10  children                        119386 non-null  float64\n",
      " 11  babies                          119390 non-null  int64  \n",
      " 12  meal                            119390 non-null  object \n",
      " 13  country                         118902 non-null  object \n",
      " 14  market_segment                  119390 non-null  object \n",
      " 15  distribution_channel            119390 non-null  object \n",
      " 16  is_repeated_guest               119390 non-null  int64  \n",
      " 17  previous_cancellations          119390 non-null  int64  \n",
      " 18  previous_bookings_not_canceled  119390 non-null  int64  \n",
      " 19  reserved_room_type              119390 non-null  object \n",
      " 20  assigned_room_type              119390 non-null  object \n",
      " 21  booking_changes                 119390 non-null  int64  \n",
      " 22  deposit_type                    119390 non-null  object \n",
      " 23  agent                           103050 non-null  float64\n",
      " 24  days_in_waiting_list            119390 non-null  int64  \n",
      " 25  customer_type                   119390 non-null  object \n",
      " 26  adr                             119390 non-null  float64\n",
      " 27  required_car_parking_spaces     119390 non-null  int64  \n",
      " 28  total_of_special_requests       119390 non-null  int64  \n",
      " 29  reservation_status              119390 non-null  object \n",
      " 30  reservation_status_date         119390 non-null  object \n",
      " 31  name                            119390 non-null  object \n",
      " 32  email                           119390 non-null  object \n",
      " 33  phone-number                    119390 non-null  object \n",
      " 34  credit_card                     119390 non-null  object \n",
      "dtypes: float64(3), int64(16), object(16)\n",
      "memory usage: 31.9+ MB\n",
      "None\n"
     ]
    }
   ],
   "source": [
    "print(hotels.info())"
   ]
  },
  {
   "cell_type": "markdown",
   "metadata": {
    "id": "IslTbEeUMK8n"
   },
   "source": [
    "**ЗАДАНИЕ: Какие 5 стран встречаются в наборе данных наиболее часто?**"
   ]
  },
  {
   "cell_type": "code",
   "execution_count": 98,
   "metadata": {
    "id": "l8Sw5L3fMK8n"
   },
   "outputs": [
    {
     "name": "stdout",
     "output_type": "stream",
     "text": [
      "111228    ABW\n",
      "92127     ABW\n",
      "70627     AGO\n",
      "104408    AGO\n",
      "81437     AGO\n",
      "Name: country, dtype: object\n"
     ]
    }
   ],
   "source": [
    "# НАПИШИТЕ ВАШ КОД В ЭТОЙ ЯЧЕЙКЕ\n",
    "hotels = hotels.sort_values(by='country')\n",
    "print(hotels['country'].head())"
   ]
  },
  {
   "cell_type": "code",
   "execution_count": 19,
   "metadata": {
    "id": "6zujRr6GMK8n",
    "outputId": "8ba0c8c9-cd76-4bf9-e509-13f9cd87f2b7",
    "scrolled": true
   },
   "outputs": [
    {
     "data": {
      "text/plain": [
       "country\n",
       "PRT    48590\n",
       "GBR    12129\n",
       "FRA    10415\n",
       "ESP     8568\n",
       "DEU     7287\n",
       "Name: count, dtype: int64"
      ]
     },
     "execution_count": 19,
     "metadata": {},
     "output_type": "execute_result"
    }
   ],
   "source": [
    "hotels['country'].value_counts()[:5]"
   ]
  },
  {
   "cell_type": "markdown",
   "metadata": {
    "id": "ygvA0Rz1MK8n"
   },
   "source": [
    "**ЗАДАНИЕ: Выведите имя человека, который заплатил наибольшую сумму за одни сутки (ADR - average daily rate)? Какое было значение этого ADR?**"
   ]
  },
  {
   "cell_type": "code",
   "execution_count": 110,
   "metadata": {
    "id": "aGlYU-w0MK8n"
   },
   "outputs": [
    {
     "name": "stdout",
     "output_type": "stream",
     "text": [
      "              hotel  is_canceled  lead_time  arrival_date_year  \\\n",
      "14969  Resort Hotel            0        195               2017   \n",
      "30006  Resort Hotel            0         31               2016   \n",
      "38878  Resort Hotel            0         25               2017   \n",
      "79017    City Hotel            0          6               2017   \n",
      "79016    City Hotel            0          5               2017   \n",
      "\n",
      "      arrival_date_month  arrival_date_week_number  arrival_date_day_of_month  \\\n",
      "14969              March                        10                          5   \n",
      "30006           November                        46                         12   \n",
      "38878               July                        30                         28   \n",
      "79017               June                        23                          5   \n",
      "79016              March                        11                         15   \n",
      "\n",
      "       stays_in_weekend_nights  stays_in_week_nights  adults  ...  \\\n",
      "14969                        4                     6       2  ...   \n",
      "30006                        0                     0       2  ...   \n",
      "38878                        2                     4       2  ...   \n",
      "79017                        1                     0       1  ...   \n",
      "79016                        0                     1       1  ...   \n",
      "\n",
      "         customer_type   adr required_car_parking_spaces  \\\n",
      "14969  Transient-Party -6.38                           0   \n",
      "30006        Transient  0.00                           0   \n",
      "38878        Transient  0.00                           0   \n",
      "79017        Transient  0.00                           0   \n",
      "79016        Transient  0.00                           0   \n",
      "\n",
      "      total_of_special_requests reservation_status reservation_status_date  \\\n",
      "14969                         0          Check-Out              2017-03-15   \n",
      "30006                         1          Check-Out              2016-11-12   \n",
      "38878                         0          Check-Out              2017-08-03   \n",
      "79017                         1          Check-Out              2017-06-06   \n",
      "79016                         1          Check-Out              2017-03-16   \n",
      "\n",
      "                   name                        email  phone-number  \\\n",
      "14969      Chase Santos     Chase_Santos@outlook.com  472-408-0661   \n",
      "30006   Elizabeth Vance              EVance@mail.com  555-704-6106   \n",
      "38878  Rebecca Castillo  Castillo_Rebecca74@mail.com  943-117-4160   \n",
      "79017     Heather Moore             HMoore24@att.com  529-510-5756   \n",
      "79016     Jeffrey Kelly       JeffreyKelly@gmail.com  887-071-0599   \n",
      "\n",
      "            credit_card  \n",
      "14969  ************9176  \n",
      "30006  ************5648  \n",
      "38878  ************9645  \n",
      "79017  ************2035  \n",
      "79016  ************2514  \n",
      "\n",
      "[5 rows x 35 columns]\n"
     ]
    }
   ],
   "source": [
    "# НАПИШИТЕ ВАШ КОД В ЭТОЙ ЯЧЕЙКЕ\n",
    "print(hotels.sort_values(by='adr').head())"
   ]
  },
  {
   "cell_type": "code",
   "execution_count": null,
   "metadata": {
    "id": "5Uz1rL29MK8n",
    "outputId": "7680b021-0943-418a-84e7-81501681cddf"
   },
   "outputs": [],
   "source": []
  },
  {
   "cell_type": "markdown",
   "metadata": {
    "id": "uGeHLOb0MK8o"
   },
   "source": [
    "**ЗАДАНИЕ: adr это средняя сумма за сутки для одного бронирования. Каково будет среднее значение adr для всех бронирований в этом наборе данных?**"
   ]
  },
  {
   "cell_type": "code",
   "execution_count": 23,
   "metadata": {
    "id": "sLOYY-hMMK8o"
   },
   "outputs": [],
   "source": [
    "# НАПИШИТЕ ВАШ КОД В ЭТОЙ ЯЧЕЙКЕ\n"
   ]
  },
  {
   "cell_type": "code",
   "execution_count": null,
   "metadata": {
    "id": "QEO20KXgMK8o",
    "outputId": "ca7c90db-9e4e-498b-95b9-21c09ebebcec"
   },
   "outputs": [],
   "source": []
  },
  {
   "cell_type": "markdown",
   "metadata": {
    "id": "mjko3_6wMK8o"
   },
   "source": [
    "**ЗАДАНИЕ: Каково среднее (mean) количество ночей, если сделать усреднение по всем бронированиям? Можете округлить до двух знаков после запятой.**"
   ]
  },
  {
   "cell_type": "code",
   "execution_count": 25,
   "metadata": {
    "id": "PVjYU5uwMK8o"
   },
   "outputs": [],
   "source": [
    "# НАПИШИТЕ ВАШ КОД В ЭТОЙ ЯЧЕЙКЕ\n"
   ]
  },
  {
   "cell_type": "code",
   "execution_count": null,
   "metadata": {
    "id": "yI9nIYafMK8o",
    "outputId": "cdc60f94-5fb2-4490-d368-4a2a1614231b"
   },
   "outputs": [],
   "source": []
  },
  {
   "cell_type": "markdown",
   "metadata": {
    "id": "hFb31ZoGMK8p"
   },
   "source": [
    "**ЗАДАНИЕ: Какова средняя общая сумма бронирования в этом наборе данных? Не *среднее за сутки*, а *среднее за бронирование*. Можете округлить до двух знаков после запятой.**"
   ]
  },
  {
   "cell_type": "code",
   "execution_count": 27,
   "metadata": {
    "id": "faOIkwE1MK8p"
   },
   "outputs": [],
   "source": [
    "# НАПИШИТЕ ВАШ КОД В ЭТОЙ ЯЧЕЙКЕ\n"
   ]
  },
  {
   "cell_type": "code",
   "execution_count": null,
   "metadata": {
    "id": "_DA6nWJkMK8p",
    "outputId": "1eed4ae4-01cd-4d93-bcbf-5c98baa4a33c"
   },
   "outputs": [],
   "source": []
  },
  {
   "cell_type": "markdown",
   "metadata": {
    "id": "DD_7aFf8MK8p"
   },
   "source": [
    "**ЗАДАНИЕ: Выведите имена и адреса email тех, кто сделал ровно 5 специальных запросов (\"Special Requests\")?**"
   ]
  },
  {
   "cell_type": "code",
   "execution_count": 29,
   "metadata": {
    "id": "5C41q_YDMK8p"
   },
   "outputs": [],
   "source": [
    "# НАПИШИТЕ ВАШ КОД В ЭТОЙ ЯЧЕЙКЕ\n"
   ]
  },
  {
   "cell_type": "code",
   "execution_count": null,
   "metadata": {
    "id": "7ewHXkE6MK8p",
    "outputId": "174617d7-cac0-4ea1-e9d0-6dba0dbf0620"
   },
   "outputs": [],
   "source": []
  },
  {
   "cell_type": "markdown",
   "metadata": {
    "id": "DM_AXfp1MK8q"
   },
   "source": [
    "**ЗАДАНИЕ: Какой процент бронирований классифицированы как бронирования \"повторными гостями\"? (Для этого не следует использовать имя, воспользуйтесь колонкой is_repeated_guest)**"
   ]
  },
  {
   "cell_type": "code",
   "execution_count": 31,
   "metadata": {
    "id": "_wSE4DY_MK8q"
   },
   "outputs": [],
   "source": [
    "# НАПИШИТЕ ВАШ КОД В ЭТОЙ ЯЧЕЙКЕ\n"
   ]
  },
  {
   "cell_type": "code",
   "execution_count": null,
   "metadata": {
    "id": "RQoembZVMK8q",
    "outputId": "13949f26-1bcb-4616-fba1-5fc0a7d43d44"
   },
   "outputs": [],
   "source": []
  },
  {
   "cell_type": "markdown",
   "metadata": {
    "id": "pPCtJRFWMK8q"
   },
   "source": [
    "**ЗАДАНИЕ: Какие 5 фамилий встречаются в этом наборе данных наиболее часто? Бонусное задание: Можете ли Вы сделать это с помощью одной строки кода в pandas? (Для упрощения задачи можете считать фамилией самое последнее слово в колонке, например для значения \"Caroline Conley MD\" можете в качестве фамилии вывести MD)**"
   ]
  },
  {
   "cell_type": "code",
   "execution_count": 33,
   "metadata": {
    "id": "fktVpFMKMK8q"
   },
   "outputs": [],
   "source": [
    "# НАПИШИТЕ ВАШ КОД В ЭТОЙ ЯЧЕЙКЕ\n"
   ]
  },
  {
   "cell_type": "code",
   "execution_count": null,
   "metadata": {
    "id": "rs_tGOT4MK8q",
    "outputId": "87ce9d21-3693-4f63-8591-738e60c1623a"
   },
   "outputs": [],
   "source": []
  },
  {
   "cell_type": "markdown",
   "metadata": {
    "id": "48o2KSavMK8q"
   },
   "source": [
    "**ЗАДАНИЕ: Выведите имена людей, которые бронировали номер для наибольшего количества детей и младенцев? (Отменённые бронирования тоже показывайте, то есть не важно, заехали они по факту в отель или нет - главное, что на момент бронирования номера было указано наибольшее количество детей+младенцев)**"
   ]
  },
  {
   "cell_type": "code",
   "execution_count": 35,
   "metadata": {
    "id": "2S7cADMzMK8q"
   },
   "outputs": [],
   "source": [
    "# НАПИШИТЕ ВАШ КОД В ЭТОЙ ЯЧЕЙКЕ\n"
   ]
  },
  {
   "cell_type": "code",
   "execution_count": null,
   "metadata": {
    "id": "TlfNTcYnMK8q",
    "outputId": "c09f53cc-c2a0-488e-b172-9e977f79ebba"
   },
   "outputs": [],
   "source": []
  },
  {
   "cell_type": "markdown",
   "metadata": {
    "id": "uLcELGIJMK8r"
   },
   "source": [
    "**ЗАДАНИЕ: Какие 3 кода области (это первые три цифры телефона) встречаются в наборе данных наиболее часто?**"
   ]
  },
  {
   "cell_type": "code",
   "execution_count": 37,
   "metadata": {
    "id": "AaNqFeFXMK8r"
   },
   "outputs": [],
   "source": [
    "# НАПИШИТЕ ВАШ КОД В ЭТОЙ ЯЧЕЙКЕ\n"
   ]
  },
  {
   "cell_type": "code",
   "execution_count": null,
   "metadata": {
    "id": "nFEsSu3mMK8r",
    "outputId": "7f1040f0-dea2-496f-fc8e-f1d2b6a7b6c1"
   },
   "outputs": [],
   "source": []
  },
  {
   "cell_type": "markdown",
   "metadata": {
    "id": "9VrRyzO7MK8r"
   },
   "source": [
    "**ЗАДАНИЕ: Посчитайте количество заселений в отель между 1м и 15м числами месяца (включая 1 и 15)? Бонусное задание: можете ли Вы сделать это с помощью одной строки кода в pandas?**"
   ]
  },
  {
   "cell_type": "code",
   "execution_count": 39,
   "metadata": {
    "id": "Zyan-nINMK8r"
   },
   "outputs": [],
   "source": [
    "# НАПИШИТЕ ВАШ КОД В ЭТОЙ ЯЧЕЙКЕ\n"
   ]
  },
  {
   "cell_type": "code",
   "execution_count": null,
   "metadata": {
    "id": "G4_8pjO7MK8r",
    "outputId": "86178042-829c-485c-b801-80a6e150c799"
   },
   "outputs": [],
   "source": []
  },
  {
   "cell_type": "markdown",
   "metadata": {
    "id": "pMiLUWT1MK8r"
   },
   "source": [
    "\n",
    "**СЛОЖНОЕ БОНУСНОЕ ЗАДАНИЕ: Создайте таблицу, запишите в неё количество заселений в отель в тот или иной день недели. (Например, 5000 заселений в понедельник, 3000 заселений во вторник и т.д.)**"
   ]
  },
  {
   "cell_type": "code",
   "execution_count": 41,
   "metadata": {
    "id": "Steqb6gRMK8r"
   },
   "outputs": [],
   "source": [
    "# НАПИШИТЕ ВАШ КОД В ЭТОЙ ЯЧЕЙКЕ\n"
   ]
  },
  {
   "cell_type": "code",
   "execution_count": null,
   "metadata": {
    "collapsed": true,
    "id": "DF-nwMD9MK8s",
    "jupyter": {
     "outputs_hidden": true
    }
   },
   "outputs": [],
   "source": []
  },
  {
   "cell_type": "code",
   "execution_count": null,
   "metadata": {
    "collapsed": true,
    "id": "UbQLX4yBMK8s",
    "jupyter": {
     "outputs_hidden": true
    }
   },
   "outputs": [],
   "source": []
  },
  {
   "cell_type": "code",
   "execution_count": null,
   "metadata": {
    "id": "0GumPXlCMK8s"
   },
   "outputs": [],
   "source": []
  },
  {
   "cell_type": "code",
   "execution_count": null,
   "metadata": {
    "id": "zePXnrViMK8s"
   },
   "outputs": [],
   "source": []
  },
  {
   "cell_type": "code",
   "execution_count": null,
   "metadata": {
    "id": "4JnPDYV_MK8s",
    "outputId": "38ed2a99-a272-4c1a-d953-0e12353e3f0c"
   },
   "outputs": [],
   "source": []
  },
  {
   "cell_type": "code",
   "execution_count": null,
   "metadata": {
    "collapsed": true,
    "id": "Vi0wojthMK8s",
    "jupyter": {
     "outputs_hidden": true
    }
   },
   "outputs": [],
   "source": []
  }
 ],
 "metadata": {
  "anaconda-cloud": {},
  "colab": {
   "provenance": []
  },
  "kernelspec": {
   "display_name": "Python 3 (ipykernel)",
   "language": "python",
   "name": "python3"
  },
  "language_info": {
   "codemirror_mode": {
    "name": "ipython",
    "version": 3
   },
   "file_extension": ".py",
   "mimetype": "text/x-python",
   "name": "python",
   "nbconvert_exporter": "python",
   "pygments_lexer": "ipython3",
   "version": "3.12.4"
  }
 },
 "nbformat": 4,
 "nbformat_minor": 4
}
